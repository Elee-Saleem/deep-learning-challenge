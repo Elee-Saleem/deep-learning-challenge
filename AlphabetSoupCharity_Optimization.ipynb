{
  "cells": [
    {
      "cell_type": "markdown",
      "metadata": {
        "id": "05DIMm_hhHki"
      },
      "source": [
        "## Preprocessing"
      ]
    },
    {
      "cell_type": "code",
      "execution_count": 1,
      "metadata": {
        "colab": {
          "base_uri": "https://localhost:8080/",
          "height": 452
        },
        "id": "PB5cHO0JhHko",
        "outputId": "3e1b3e74-71b1-4bbe-bc55-f853fb2e8217"
      },
      "outputs": [
        {
          "data": {
            "text/html": [
              "<div>\n",
              "<style scoped>\n",
              "    .dataframe tbody tr th:only-of-type {\n",
              "        vertical-align: middle;\n",
              "    }\n",
              "\n",
              "    .dataframe tbody tr th {\n",
              "        vertical-align: top;\n",
              "    }\n",
              "\n",
              "    .dataframe thead th {\n",
              "        text-align: right;\n",
              "    }\n",
              "</style>\n",
              "<table border=\"1\" class=\"dataframe\">\n",
              "  <thead>\n",
              "    <tr style=\"text-align: right;\">\n",
              "      <th></th>\n",
              "      <th>EIN</th>\n",
              "      <th>NAME</th>\n",
              "      <th>APPLICATION_TYPE</th>\n",
              "      <th>AFFILIATION</th>\n",
              "      <th>CLASSIFICATION</th>\n",
              "      <th>USE_CASE</th>\n",
              "      <th>ORGANIZATION</th>\n",
              "      <th>STATUS</th>\n",
              "      <th>INCOME_AMT</th>\n",
              "      <th>SPECIAL_CONSIDERATIONS</th>\n",
              "      <th>ASK_AMT</th>\n",
              "      <th>IS_SUCCESSFUL</th>\n",
              "    </tr>\n",
              "  </thead>\n",
              "  <tbody>\n",
              "    <tr>\n",
              "      <th>0</th>\n",
              "      <td>10520599</td>\n",
              "      <td>BLUE KNIGHTS MOTORCYCLE CLUB</td>\n",
              "      <td>T10</td>\n",
              "      <td>Independent</td>\n",
              "      <td>C1000</td>\n",
              "      <td>ProductDev</td>\n",
              "      <td>Association</td>\n",
              "      <td>1</td>\n",
              "      <td>0</td>\n",
              "      <td>N</td>\n",
              "      <td>5000</td>\n",
              "      <td>1</td>\n",
              "    </tr>\n",
              "    <tr>\n",
              "      <th>1</th>\n",
              "      <td>10531628</td>\n",
              "      <td>AMERICAN CHESAPEAKE CLUB CHARITABLE TR</td>\n",
              "      <td>T3</td>\n",
              "      <td>Independent</td>\n",
              "      <td>C2000</td>\n",
              "      <td>Preservation</td>\n",
              "      <td>Co-operative</td>\n",
              "      <td>1</td>\n",
              "      <td>1-9999</td>\n",
              "      <td>N</td>\n",
              "      <td>108590</td>\n",
              "      <td>1</td>\n",
              "    </tr>\n",
              "    <tr>\n",
              "      <th>2</th>\n",
              "      <td>10547893</td>\n",
              "      <td>ST CLOUD PROFESSIONAL FIREFIGHTERS</td>\n",
              "      <td>T5</td>\n",
              "      <td>CompanySponsored</td>\n",
              "      <td>C3000</td>\n",
              "      <td>ProductDev</td>\n",
              "      <td>Association</td>\n",
              "      <td>1</td>\n",
              "      <td>0</td>\n",
              "      <td>N</td>\n",
              "      <td>5000</td>\n",
              "      <td>0</td>\n",
              "    </tr>\n",
              "    <tr>\n",
              "      <th>3</th>\n",
              "      <td>10553066</td>\n",
              "      <td>SOUTHSIDE ATHLETIC ASSOCIATION</td>\n",
              "      <td>T3</td>\n",
              "      <td>CompanySponsored</td>\n",
              "      <td>C2000</td>\n",
              "      <td>Preservation</td>\n",
              "      <td>Trust</td>\n",
              "      <td>1</td>\n",
              "      <td>10000-24999</td>\n",
              "      <td>N</td>\n",
              "      <td>6692</td>\n",
              "      <td>1</td>\n",
              "    </tr>\n",
              "    <tr>\n",
              "      <th>4</th>\n",
              "      <td>10556103</td>\n",
              "      <td>GENETIC RESEARCH INSTITUTE OF THE DESERT</td>\n",
              "      <td>T3</td>\n",
              "      <td>Independent</td>\n",
              "      <td>C1000</td>\n",
              "      <td>Heathcare</td>\n",
              "      <td>Trust</td>\n",
              "      <td>1</td>\n",
              "      <td>100000-499999</td>\n",
              "      <td>N</td>\n",
              "      <td>142590</td>\n",
              "      <td>1</td>\n",
              "    </tr>\n",
              "  </tbody>\n",
              "</table>\n",
              "</div>"
            ],
            "text/plain": [
              "        EIN                                      NAME APPLICATION_TYPE  \\\n",
              "0  10520599              BLUE KNIGHTS MOTORCYCLE CLUB              T10   \n",
              "1  10531628    AMERICAN CHESAPEAKE CLUB CHARITABLE TR               T3   \n",
              "2  10547893        ST CLOUD PROFESSIONAL FIREFIGHTERS               T5   \n",
              "3  10553066            SOUTHSIDE ATHLETIC ASSOCIATION               T3   \n",
              "4  10556103  GENETIC RESEARCH INSTITUTE OF THE DESERT               T3   \n",
              "\n",
              "        AFFILIATION CLASSIFICATION      USE_CASE  ORGANIZATION  STATUS  \\\n",
              "0       Independent          C1000    ProductDev   Association       1   \n",
              "1       Independent          C2000  Preservation  Co-operative       1   \n",
              "2  CompanySponsored          C3000    ProductDev   Association       1   \n",
              "3  CompanySponsored          C2000  Preservation         Trust       1   \n",
              "4       Independent          C1000     Heathcare         Trust       1   \n",
              "\n",
              "      INCOME_AMT SPECIAL_CONSIDERATIONS  ASK_AMT  IS_SUCCESSFUL  \n",
              "0              0                      N     5000              1  \n",
              "1         1-9999                      N   108590              1  \n",
              "2              0                      N     5000              0  \n",
              "3    10000-24999                      N     6692              1  \n",
              "4  100000-499999                      N   142590              1  "
            ]
          },
          "execution_count": 1,
          "metadata": {},
          "output_type": "execute_result"
        }
      ],
      "source": [
        "# Import our dependencies\n",
        "from sklearn.model_selection import train_test_split\n",
        "from sklearn.preprocessing import StandardScaler\n",
        "import pandas as pd\n",
        "import tensorflow as tf\n",
        "from IPython.display import display, HTML\n",
        "#  Import and read the charity_data.csv.\n",
        "import pandas as pd\n",
        "application_df = pd.read_csv(\"https://static.bc-edx.com/data/dl-1-2/m21/lms/starter/charity_data.csv\")\n",
        "application_df.head()"
      ]
    },
    {
      "cell_type": "markdown",
      "metadata": {
        "id": "JJPmW6TwsCw5"
      },
      "source": [
        "**Identify Target and Feature Variables**"
      ]
    },
    {
      "cell_type": "code",
      "execution_count": 2,
      "metadata": {
        "colab": {
          "base_uri": "https://localhost:8080/",
          "height": 426
        },
        "id": "mg-8trJVqFEW",
        "outputId": "916dc160-6841-4a05-cb36-de8a722636c3"
      },
      "outputs": [
        {
          "data": {
            "text/html": [
              "<div>\n",
              "<style scoped>\n",
              "    .dataframe tbody tr th:only-of-type {\n",
              "        vertical-align: middle;\n",
              "    }\n",
              "\n",
              "    .dataframe tbody tr th {\n",
              "        vertical-align: top;\n",
              "    }\n",
              "\n",
              "    .dataframe thead th {\n",
              "        text-align: right;\n",
              "    }\n",
              "</style>\n",
              "<table border=\"1\" class=\"dataframe\">\n",
              "  <thead>\n",
              "    <tr style=\"text-align: right;\">\n",
              "      <th></th>\n",
              "      <th>Variable Type</th>\n",
              "      <th>Variable Name</th>\n",
              "    </tr>\n",
              "  </thead>\n",
              "  <tbody>\n",
              "    <tr>\n",
              "      <th>0</th>\n",
              "      <td>Target Variable</td>\n",
              "      <td>IS_SUCCESSFUL</td>\n",
              "    </tr>\n",
              "    <tr>\n",
              "      <th>1</th>\n",
              "      <td>Feature Variable</td>\n",
              "      <td>EIN</td>\n",
              "    </tr>\n",
              "    <tr>\n",
              "      <th>2</th>\n",
              "      <td>Feature Variable</td>\n",
              "      <td>NAME</td>\n",
              "    </tr>\n",
              "    <tr>\n",
              "      <th>3</th>\n",
              "      <td>Feature Variable</td>\n",
              "      <td>APPLICATION_TYPE</td>\n",
              "    </tr>\n",
              "    <tr>\n",
              "      <th>4</th>\n",
              "      <td>Feature Variable</td>\n",
              "      <td>AFFILIATION</td>\n",
              "    </tr>\n",
              "    <tr>\n",
              "      <th>5</th>\n",
              "      <td>Feature Variable</td>\n",
              "      <td>CLASSIFICATION</td>\n",
              "    </tr>\n",
              "    <tr>\n",
              "      <th>6</th>\n",
              "      <td>Feature Variable</td>\n",
              "      <td>USE_CASE</td>\n",
              "    </tr>\n",
              "    <tr>\n",
              "      <th>7</th>\n",
              "      <td>Feature Variable</td>\n",
              "      <td>ORGANIZATION</td>\n",
              "    </tr>\n",
              "    <tr>\n",
              "      <th>8</th>\n",
              "      <td>Feature Variable</td>\n",
              "      <td>STATUS</td>\n",
              "    </tr>\n",
              "    <tr>\n",
              "      <th>9</th>\n",
              "      <td>Feature Variable</td>\n",
              "      <td>INCOME_AMT</td>\n",
              "    </tr>\n",
              "    <tr>\n",
              "      <th>10</th>\n",
              "      <td>Feature Variable</td>\n",
              "      <td>SPECIAL_CONSIDERATIONS</td>\n",
              "    </tr>\n",
              "    <tr>\n",
              "      <th>11</th>\n",
              "      <td>Feature Variable</td>\n",
              "      <td>ASK_AMT</td>\n",
              "    </tr>\n",
              "  </tbody>\n",
              "</table>\n",
              "</div>"
            ],
            "text/plain": [
              "       Variable Type           Variable Name\n",
              "0    Target Variable           IS_SUCCESSFUL\n",
              "1   Feature Variable                     EIN\n",
              "2   Feature Variable                    NAME\n",
              "3   Feature Variable        APPLICATION_TYPE\n",
              "4   Feature Variable             AFFILIATION\n",
              "5   Feature Variable          CLASSIFICATION\n",
              "6   Feature Variable                USE_CASE\n",
              "7   Feature Variable            ORGANIZATION\n",
              "8   Feature Variable                  STATUS\n",
              "9   Feature Variable              INCOME_AMT\n",
              "10  Feature Variable  SPECIAL_CONSIDERATIONS\n",
              "11  Feature Variable                 ASK_AMT"
            ]
          },
          "execution_count": 2,
          "metadata": {},
          "output_type": "execute_result"
        }
      ],
      "source": [
        "# Identify the target variable\n",
        "target_variable = \"IS_SUCCESSFUL\"\n",
        "\n",
        "# Identify the feature variables\n",
        "feature_variables = application_df.columns.tolist()\n",
        "feature_variables.remove(target_variable)\n",
        "\n",
        "# Create a DataFrame\n",
        "data = {\n",
        "    \"Variable Type\": [\"Target Variable\"] + [\"Feature Variable\"] * len(feature_variables),\n",
        "    \"Variable Name\": [target_variable] + feature_variables\n",
        "}\n",
        "\n",
        "df = pd.DataFrame(data)\n",
        "df"
      ]
    },
    {
      "cell_type": "code",
      "execution_count": 3,
      "metadata": {
        "id": "Yf1QAE1thHkt"
      },
      "outputs": [],
      "source": [
        "# Drop the non-beneficial ID columns, 'EIN' and 'NAME'.\n",
        "application_df = application_df.drop(columns=[\"EIN\"])"
      ]
    },
    {
      "cell_type": "code",
      "execution_count": 4,
      "metadata": {
        "colab": {
          "base_uri": "https://localhost:8080/"
        },
        "id": "AOV_TSoxsrwf",
        "outputId": "313673e8-1656-4e3e-cda0-a70729f8ac4f"
      },
      "outputs": [
        {
          "name": "stdout",
          "output_type": "stream",
          "text": [
            "NAME                      19568\n",
            "APPLICATION_TYPE             17\n",
            "AFFILIATION                   6\n",
            "CLASSIFICATION               71\n",
            "USE_CASE                      5\n",
            "ORGANIZATION                  4\n",
            "STATUS                        2\n",
            "INCOME_AMT                    9\n",
            "SPECIAL_CONSIDERATIONS        2\n",
            "ASK_AMT                    8747\n",
            "IS_SUCCESSFUL                 2\n",
            "dtype: int64\n"
          ]
        }
      ],
      "source": [
        "# Determine the number of unique values in each column.\n",
        "unique_counts = application_df.nunique()\n",
        "\n",
        "# Display the unique counts\n",
        "print(unique_counts)"
      ]
    },
    {
      "cell_type": "code",
      "execution_count": 5,
      "metadata": {
        "colab": {
          "base_uri": "https://localhost:8080/"
        },
        "id": "UWj61v8Wu7vI",
        "outputId": "2ac5df23-ddd9-4f9b-fb50-f893b795ebcd"
      },
      "outputs": [
        {
          "name": "stdout",
          "output_type": "stream",
          "text": [
            "T3     27037\n",
            "T4      1542\n",
            "T6      1216\n",
            "T5      1173\n",
            "T19     1065\n",
            "T8       737\n",
            "T7       725\n",
            "T10      528\n",
            "T9       156\n",
            "T13       66\n",
            "T12       27\n",
            "T2        16\n",
            "T25        3\n",
            "T14        3\n",
            "T29        2\n",
            "T15        2\n",
            "T17        1\n",
            "Name: APPLICATION_TYPE, dtype: int64\n"
          ]
        }
      ],
      "source": [
        "# Look at APPLICATION_TYPE value counts for binning\n",
        "application_type_counts = application_df[\"APPLICATION_TYPE\"].value_counts()\n",
        "# Print the formatted output\n",
        "print(application_type_counts)"
      ]
    },
    {
      "cell_type": "code",
      "execution_count": 6,
      "metadata": {
        "colab": {
          "base_uri": "https://localhost:8080/"
        },
        "id": "poSPLCiTvdpp",
        "outputId": "4744a045-a0f8-47e5-cb0e-6ca64d2a7c92"
      },
      "outputs": [
        {
          "name": "stdout",
          "output_type": "stream",
          "text": [
            "T3       27037\n",
            "T4        1542\n",
            "T6        1216\n",
            "T5        1173\n",
            "T19       1065\n",
            "T8         737\n",
            "T7         725\n",
            "T10        528\n",
            "Other      276\n",
            "Name: APPLICATION_TYPE, dtype: int64\n"
          ]
        }
      ],
      "source": [
        "# Choose a cutoff value and create a list of application types to be replaced\n",
        "# use the variable name `application_types_to_replace`\n",
        "# Choose a cutoff value for binning\n",
        "cutoff_value = 500\n",
        "\n",
        "# Create a list of application types to be replaced with \"Other\"\n",
        "application_types_to_replace = application_df['APPLICATION_TYPE'].value_counts()[application_df['APPLICATION_TYPE'].value_counts() < cutoff_value].index.tolist()\n",
        "\n",
        "# Replace in dataframe\n",
        "for app in application_types_to_replace:\n",
        "    application_df['APPLICATION_TYPE'] = application_df['APPLICATION_TYPE'].replace(app, \"Other\")\n",
        "\n",
        "# Check to make sure binning was successful\n",
        "application_type_counts = application_df['APPLICATION_TYPE'].value_counts()\n",
        "print(application_type_counts)"
      ]
    },
    {
      "cell_type": "code",
      "execution_count": 7,
      "metadata": {
        "colab": {
          "base_uri": "https://localhost:8080/"
        },
        "id": "VhDC8jK4hHkx",
        "outputId": "f7d14b9e-16f8-4d8b-fd24-be1ca11c4810"
      },
      "outputs": [
        {
          "name": "stdout",
          "output_type": "stream",
          "text": [
            "C1000    17326\n",
            "C2000     6074\n",
            "C1200     4837\n",
            "C3000     1918\n",
            "C2100     1883\n",
            "         ...  \n",
            "C4120        1\n",
            "C8210        1\n",
            "C2561        1\n",
            "C4500        1\n",
            "C2150        1\n",
            "Name: CLASSIFICATION, Length: 71, dtype: int64\n"
          ]
        }
      ],
      "source": [
        "# Look at CLASSIFICATION value counts for binning\n",
        "# Check the value counts of the CLASSIFICATION column\n",
        "classification_counts = application_df['CLASSIFICATION'].value_counts()\n",
        "\n",
        "# Display the value counts\n",
        "print(classification_counts)"
      ]
    },
    {
      "cell_type": "code",
      "execution_count": 8,
      "metadata": {
        "colab": {
          "base_uri": "https://localhost:8080/"
        },
        "id": "nqhgLi8ShHky",
        "outputId": "99ef1f21-33fe-4175-9f20-2b70bb5fa392"
      },
      "outputs": [
        {
          "name": "stdout",
          "output_type": "stream",
          "text": [
            "C1000    17326\n",
            "C2000     6074\n",
            "C1200     4837\n",
            "C3000     1918\n",
            "C2100     1883\n",
            "C7000      777\n",
            "C1700      287\n",
            "C4000      194\n",
            "C5000      116\n",
            "C1270      114\n",
            "C2700      104\n",
            "C2800       95\n",
            "C7100       75\n",
            "C1300       58\n",
            "C1280       50\n",
            "C1230       36\n",
            "C1400       34\n",
            "C7200       32\n",
            "C2300       32\n",
            "C1240       30\n",
            "C8000       20\n",
            "C7120       18\n",
            "C1500       16\n",
            "C1800       15\n",
            "C6000       15\n",
            "C1250       14\n",
            "C8200       11\n",
            "C1238       10\n",
            "C1278       10\n",
            "C1235        9\n",
            "C1237        9\n",
            "C7210        7\n",
            "C2400        6\n",
            "C1720        6\n",
            "C4100        6\n",
            "C1257        5\n",
            "C1600        5\n",
            "C1260        3\n",
            "C2710        3\n",
            "C0           3\n",
            "C3200        2\n",
            "C1234        2\n",
            "C1246        2\n",
            "C1267        2\n",
            "C1256        2\n",
            "Name: CLASSIFICATION, dtype: int64\n"
          ]
        }
      ],
      "source": [
        "# You may find it helpful to look at CLASSIFICATION value counts >1\n",
        "classification_counts = application_df['CLASSIFICATION'].value_counts()\n",
        "filtered_counts = classification_counts[classification_counts > 1]\n",
        "\n",
        "# Display the filtered value counts\n",
        "print(filtered_counts)"
      ]
    },
    {
      "cell_type": "code",
      "execution_count": 9,
      "metadata": {
        "colab": {
          "base_uri": "https://localhost:8080/"
        },
        "id": "Kzg3H05zhHkz",
        "outputId": "9cc929ae-0b5c-4be8-944f-d4b4a229643a"
      },
      "outputs": [
        {
          "data": {
            "text/plain": [
              "C1000    17326\n",
              "C2000     6074\n",
              "C1200     4837\n",
              "Other     2261\n",
              "C3000     1918\n",
              "C2100     1883\n",
              "Name: CLASSIFICATION, dtype: int64"
            ]
          },
          "execution_count": 9,
          "metadata": {},
          "output_type": "execute_result"
        }
      ],
      "source": [
        "# Choose a cutoff value and create a list of classifications to be replaced\n",
        "# use the variable name `classifications_to_replace`\n",
        "# Choose a cutoff value for binning\n",
        "cutoff_value = 1000\n",
        "\n",
        "# Create a list of classifications to be replaced with \"Other\"\n",
        "classifications_to_replace = application_df['CLASSIFICATION'].value_counts()[application_df['CLASSIFICATION'].value_counts() < cutoff_value].index.tolist()\n",
        "\n",
        "# Replace in dataframe\n",
        "for cls in classifications_to_replace:\n",
        "    application_df['CLASSIFICATION'] = application_df['CLASSIFICATION'].replace(cls,\"Other\")\n",
        "\n",
        "# Check to make sure binning was successful\n",
        "application_df['CLASSIFICATION'].value_counts()"
      ]
    },
    {
      "cell_type": "code",
      "execution_count": 10,
      "metadata": {
        "colab": {
          "base_uri": "https://localhost:8080/"
        },
        "id": "RxsOUexWJ-By",
        "outputId": "16148f2e-1082-42a8-91e3-248c72bd6c84"
      },
      "outputs": [
        {
          "data": {
            "text/plain": [
              "PARENT BOOSTER USA INC                                                  1260\n",
              "TOPS CLUB INC                                                            765\n",
              "UNITED STATES BOWLING CONGRESS INC                                       700\n",
              "WASHINGTON STATE UNIVERSITY                                              492\n",
              "AMATEUR ATHLETIC UNION OF THE UNITED STATES INC                          408\n",
              "                                                                        ... \n",
              "ST LOUIS SLAM WOMENS FOOTBALL                                              1\n",
              "AIESEC ALUMNI IBEROAMERICA CORP                                            1\n",
              "WEALLBLEEDRED ORG INC                                                      1\n",
              "AMERICAN SOCIETY FOR STANDARDS IN MEDIUMSHIP & PSYCHICAL INVESTIGATI       1\n",
              "WATERHOUSE CHARITABLE TR                                                   1\n",
              "Name: NAME, Length: 19568, dtype: int64"
            ]
          },
          "execution_count": 10,
          "metadata": {},
          "output_type": "execute_result"
        }
      ],
      "source": [
        "# Look at NAME value counts for binning\n",
        "name_counts = application_df['NAME'].value_counts()\n",
        "name_counts"
      ]
    },
    {
      "cell_type": "code",
      "execution_count": 11,
      "metadata": {
        "colab": {
          "base_uri": "https://localhost:8080/"
        },
        "id": "2OL317stKCCG",
        "outputId": "2f353b90-501b-4323-b45f-c7cfa447c9cc"
      },
      "outputs": [
        {
          "data": {
            "text/plain": [
              "Other                                                                 25987\n",
              "PARENT BOOSTER USA INC                                                 1260\n",
              "TOPS CLUB INC                                                           765\n",
              "UNITED STATES BOWLING CONGRESS INC                                      700\n",
              "WASHINGTON STATE UNIVERSITY                                             492\n",
              "AMATEUR ATHLETIC UNION OF THE UNITED STATES INC                         408\n",
              "PTA TEXAS CONGRESS                                                      368\n",
              "SOROPTIMIST INTERNATIONAL OF THE AMERICAS INC                           331\n",
              "ALPHA PHI SIGMA                                                         313\n",
              "TOASTMASTERS INTERNATIONAL                                              293\n",
              "MOST WORSHIPFUL STRINGER FREE AND ACCEPTED MASONS                       287\n",
              "LITTLE LEAGUE BASEBALL INC                                              277\n",
              "INTERNATIONAL ASSOCIATION OF LIONS CLUBS                                266\n",
              "MOMS CLUB                                                               210\n",
              "INTERNATIONAL ASSOCIATION OF SHEET METAL AIR RAIL & TRANSPORTATION      206\n",
              "AMERICAN ASSOCIATION OF UNIVERSITY WOMEN                                197\n",
              "FARMERS EDUCATIONAL AND COOPERATIVE UNION OF AMERICA                    166\n",
              "KNIGHTS OF COLUMBUS                                                     158\n",
              "HABITAT FOR HUMANITY INTERNATIONAL INC                                  154\n",
              "TENNESSEE ORDER OF THE EASTERN STAR                                     151\n",
              "VETERANS OF FOREIGN WARS OF THE UNITED STATES AUXILIARY                 144\n",
              "PTA UTAH CONGRESS                                                       140\n",
              "THE UNITED STATES PONY CLUBS INC                                        136\n",
              "CIVITAN INTERNATIONAL                                                   131\n",
              "SIGMA BETA DELTA INC                                                    127\n",
              "HONOR SOCIETY OF PHI KAPPA PHI                                          107\n",
              "MONTANA 4-H FOUNDATION INC                                              107\n",
              "WASHINGTON STATE GRANGE                                                 106\n",
              "UNIVERSITY OF WYOMING                                                   105\n",
              "DEMOLAY INTERNATIONAL                                                   104\n",
              "SERTOMA INC                                                             103\n",
              "Name: NAME, dtype: int64"
            ]
          },
          "execution_count": 11,
          "metadata": {},
          "output_type": "execute_result"
        }
      ],
      "source": [
        "names_to_replace = list(name_counts[name_counts < 100].index)\n",
        "\n",
        "# Replace in dataframe\n",
        "for name in names_to_replace:\n",
        "    application_df['NAME'] = application_df['NAME'].replace(\n",
        "        name, \"Other\")\n",
        "\n",
        "# Check to make sure binning was successful\n",
        "application_df['NAME'].value_counts()"
      ]
    },
    {
      "cell_type": "code",
      "execution_count": 12,
      "metadata": {
        "colab": {
          "base_uri": "https://localhost:8080/"
        },
        "id": "OatMuKwh4MlS",
        "outputId": "52217da9-027b-407f-b664-23d3a55a574c"
      },
      "outputs": [
        {
          "data": {
            "text/plain": [
              "NAME                      object\n",
              "APPLICATION_TYPE          object\n",
              "AFFILIATION               object\n",
              "CLASSIFICATION            object\n",
              "USE_CASE                  object\n",
              "ORGANIZATION              object\n",
              "STATUS                     int64\n",
              "INCOME_AMT                object\n",
              "SPECIAL_CONSIDERATIONS    object\n",
              "ASK_AMT                    int64\n",
              "IS_SUCCESSFUL              int64\n",
              "dtype: object"
            ]
          },
          "execution_count": 12,
          "metadata": {},
          "output_type": "execute_result"
        }
      ],
      "source": [
        "application_df.dtypes"
      ]
    },
    {
      "cell_type": "code",
      "execution_count": 13,
      "metadata": {
        "colab": {
          "base_uri": "https://localhost:8080/"
        },
        "id": "UhkRHf4S20D6",
        "outputId": "b1f67f9b-4993-4fe2-8c34-11ff1ea27eb3"
      },
      "outputs": [
        {
          "data": {
            "text/plain": [
              "['NAME',\n",
              " 'APPLICATION_TYPE',\n",
              " 'AFFILIATION',\n",
              " 'CLASSIFICATION',\n",
              " 'USE_CASE',\n",
              " 'ORGANIZATION',\n",
              " 'INCOME_AMT',\n",
              " 'SPECIAL_CONSIDERATIONS']"
            ]
          },
          "execution_count": 13,
          "metadata": {},
          "output_type": "execute_result"
        }
      ],
      "source": [
        "categorical_list = application_df.dtypes[application_df.dtypes == \"object\"].index.tolist()\n",
        "categorical_list"
      ]
    },
    {
      "cell_type": "code",
      "execution_count": 14,
      "metadata": {
        "colab": {
          "base_uri": "https://localhost:8080/",
          "height": 342
        },
        "id": "aXBSh-owhHk0",
        "outputId": "43d8f7fe-f464-4622-f154-5df27f0c2be6"
      },
      "outputs": [
        {
          "data": {
            "text/html": [
              "<div>\n",
              "<style scoped>\n",
              "    .dataframe tbody tr th:only-of-type {\n",
              "        vertical-align: middle;\n",
              "    }\n",
              "\n",
              "    .dataframe tbody tr th {\n",
              "        vertical-align: top;\n",
              "    }\n",
              "\n",
              "    .dataframe thead th {\n",
              "        text-align: right;\n",
              "    }\n",
              "</style>\n",
              "<table border=\"1\" class=\"dataframe\">\n",
              "  <thead>\n",
              "    <tr style=\"text-align: right;\">\n",
              "      <th></th>\n",
              "      <th>STATUS</th>\n",
              "      <th>ASK_AMT</th>\n",
              "      <th>IS_SUCCESSFUL</th>\n",
              "      <th>NAME_ALPHA PHI SIGMA</th>\n",
              "      <th>NAME_AMATEUR ATHLETIC UNION OF THE UNITED STATES INC</th>\n",
              "      <th>NAME_AMERICAN ASSOCIATION OF UNIVERSITY WOMEN</th>\n",
              "      <th>NAME_CIVITAN INTERNATIONAL</th>\n",
              "      <th>NAME_DEMOLAY INTERNATIONAL</th>\n",
              "      <th>NAME_FARMERS EDUCATIONAL AND COOPERATIVE UNION OF AMERICA</th>\n",
              "      <th>NAME_HABITAT FOR HUMANITY INTERNATIONAL INC</th>\n",
              "      <th>...</th>\n",
              "      <th>INCOME_AMT_1-9999</th>\n",
              "      <th>INCOME_AMT_10000-24999</th>\n",
              "      <th>INCOME_AMT_100000-499999</th>\n",
              "      <th>INCOME_AMT_10M-50M</th>\n",
              "      <th>INCOME_AMT_1M-5M</th>\n",
              "      <th>INCOME_AMT_25000-99999</th>\n",
              "      <th>INCOME_AMT_50M+</th>\n",
              "      <th>INCOME_AMT_5M-10M</th>\n",
              "      <th>SPECIAL_CONSIDERATIONS_N</th>\n",
              "      <th>SPECIAL_CONSIDERATIONS_Y</th>\n",
              "    </tr>\n",
              "  </thead>\n",
              "  <tbody>\n",
              "    <tr>\n",
              "      <th>0</th>\n",
              "      <td>1</td>\n",
              "      <td>5000</td>\n",
              "      <td>1</td>\n",
              "      <td>0</td>\n",
              "      <td>0</td>\n",
              "      <td>0</td>\n",
              "      <td>0</td>\n",
              "      <td>0</td>\n",
              "      <td>0</td>\n",
              "      <td>0</td>\n",
              "      <td>...</td>\n",
              "      <td>0</td>\n",
              "      <td>0</td>\n",
              "      <td>0</td>\n",
              "      <td>0</td>\n",
              "      <td>0</td>\n",
              "      <td>0</td>\n",
              "      <td>0</td>\n",
              "      <td>0</td>\n",
              "      <td>1</td>\n",
              "      <td>0</td>\n",
              "    </tr>\n",
              "    <tr>\n",
              "      <th>1</th>\n",
              "      <td>1</td>\n",
              "      <td>108590</td>\n",
              "      <td>1</td>\n",
              "      <td>0</td>\n",
              "      <td>0</td>\n",
              "      <td>0</td>\n",
              "      <td>0</td>\n",
              "      <td>0</td>\n",
              "      <td>0</td>\n",
              "      <td>0</td>\n",
              "      <td>...</td>\n",
              "      <td>1</td>\n",
              "      <td>0</td>\n",
              "      <td>0</td>\n",
              "      <td>0</td>\n",
              "      <td>0</td>\n",
              "      <td>0</td>\n",
              "      <td>0</td>\n",
              "      <td>0</td>\n",
              "      <td>1</td>\n",
              "      <td>0</td>\n",
              "    </tr>\n",
              "    <tr>\n",
              "      <th>2</th>\n",
              "      <td>1</td>\n",
              "      <td>5000</td>\n",
              "      <td>0</td>\n",
              "      <td>0</td>\n",
              "      <td>0</td>\n",
              "      <td>0</td>\n",
              "      <td>0</td>\n",
              "      <td>0</td>\n",
              "      <td>0</td>\n",
              "      <td>0</td>\n",
              "      <td>...</td>\n",
              "      <td>0</td>\n",
              "      <td>0</td>\n",
              "      <td>0</td>\n",
              "      <td>0</td>\n",
              "      <td>0</td>\n",
              "      <td>0</td>\n",
              "      <td>0</td>\n",
              "      <td>0</td>\n",
              "      <td>1</td>\n",
              "      <td>0</td>\n",
              "    </tr>\n",
              "    <tr>\n",
              "      <th>3</th>\n",
              "      <td>1</td>\n",
              "      <td>6692</td>\n",
              "      <td>1</td>\n",
              "      <td>0</td>\n",
              "      <td>0</td>\n",
              "      <td>0</td>\n",
              "      <td>0</td>\n",
              "      <td>0</td>\n",
              "      <td>0</td>\n",
              "      <td>0</td>\n",
              "      <td>...</td>\n",
              "      <td>0</td>\n",
              "      <td>1</td>\n",
              "      <td>0</td>\n",
              "      <td>0</td>\n",
              "      <td>0</td>\n",
              "      <td>0</td>\n",
              "      <td>0</td>\n",
              "      <td>0</td>\n",
              "      <td>1</td>\n",
              "      <td>0</td>\n",
              "    </tr>\n",
              "    <tr>\n",
              "      <th>4</th>\n",
              "      <td>1</td>\n",
              "      <td>142590</td>\n",
              "      <td>1</td>\n",
              "      <td>0</td>\n",
              "      <td>0</td>\n",
              "      <td>0</td>\n",
              "      <td>0</td>\n",
              "      <td>0</td>\n",
              "      <td>0</td>\n",
              "      <td>0</td>\n",
              "      <td>...</td>\n",
              "      <td>0</td>\n",
              "      <td>0</td>\n",
              "      <td>1</td>\n",
              "      <td>0</td>\n",
              "      <td>0</td>\n",
              "      <td>0</td>\n",
              "      <td>0</td>\n",
              "      <td>0</td>\n",
              "      <td>1</td>\n",
              "      <td>0</td>\n",
              "    </tr>\n",
              "  </tbody>\n",
              "</table>\n",
              "<p>5 rows × 75 columns</p>\n",
              "</div>"
            ],
            "text/plain": [
              "   STATUS  ASK_AMT  IS_SUCCESSFUL  NAME_ALPHA PHI SIGMA  \\\n",
              "0       1     5000              1                     0   \n",
              "1       1   108590              1                     0   \n",
              "2       1     5000              0                     0   \n",
              "3       1     6692              1                     0   \n",
              "4       1   142590              1                     0   \n",
              "\n",
              "   NAME_AMATEUR ATHLETIC UNION OF THE UNITED STATES INC  \\\n",
              "0                                                  0      \n",
              "1                                                  0      \n",
              "2                                                  0      \n",
              "3                                                  0      \n",
              "4                                                  0      \n",
              "\n",
              "   NAME_AMERICAN ASSOCIATION OF UNIVERSITY WOMEN  NAME_CIVITAN INTERNATIONAL  \\\n",
              "0                                              0                           0   \n",
              "1                                              0                           0   \n",
              "2                                              0                           0   \n",
              "3                                              0                           0   \n",
              "4                                              0                           0   \n",
              "\n",
              "   NAME_DEMOLAY INTERNATIONAL  \\\n",
              "0                           0   \n",
              "1                           0   \n",
              "2                           0   \n",
              "3                           0   \n",
              "4                           0   \n",
              "\n",
              "   NAME_FARMERS EDUCATIONAL AND COOPERATIVE UNION OF AMERICA  \\\n",
              "0                                                  0           \n",
              "1                                                  0           \n",
              "2                                                  0           \n",
              "3                                                  0           \n",
              "4                                                  0           \n",
              "\n",
              "   NAME_HABITAT FOR HUMANITY INTERNATIONAL INC  ...  INCOME_AMT_1-9999  \\\n",
              "0                                            0  ...                  0   \n",
              "1                                            0  ...                  1   \n",
              "2                                            0  ...                  0   \n",
              "3                                            0  ...                  0   \n",
              "4                                            0  ...                  0   \n",
              "\n",
              "   INCOME_AMT_10000-24999  INCOME_AMT_100000-499999  INCOME_AMT_10M-50M  \\\n",
              "0                       0                         0                   0   \n",
              "1                       0                         0                   0   \n",
              "2                       0                         0                   0   \n",
              "3                       1                         0                   0   \n",
              "4                       0                         1                   0   \n",
              "\n",
              "   INCOME_AMT_1M-5M  INCOME_AMT_25000-99999  INCOME_AMT_50M+  \\\n",
              "0                 0                       0                0   \n",
              "1                 0                       0                0   \n",
              "2                 0                       0                0   \n",
              "3                 0                       0                0   \n",
              "4                 0                       0                0   \n",
              "\n",
              "   INCOME_AMT_5M-10M  SPECIAL_CONSIDERATIONS_N  SPECIAL_CONSIDERATIONS_Y  \n",
              "0                  0                         1                         0  \n",
              "1                  0                         1                         0  \n",
              "2                  0                         1                         0  \n",
              "3                  0                         1                         0  \n",
              "4                  0                         1                         0  \n",
              "\n",
              "[5 rows x 75 columns]"
            ]
          },
          "execution_count": 14,
          "metadata": {},
          "output_type": "execute_result"
        }
      ],
      "source": [
        "# Convert categorical data to numeric with `pd.get_dummies`\n",
        "application_df_encoded = pd.get_dummies(application_df)\n",
        "application_df_encoded.head()\n"
      ]
    },
    {
      "cell_type": "code",
      "execution_count": 15,
      "metadata": {
        "colab": {
          "base_uri": "https://localhost:8080/"
        },
        "id": "igVSSppYhHk1",
        "outputId": "17b6245f-479c-45fd-dd12-78bb3139f240"
      },
      "outputs": [
        {
          "name": "stdout",
          "output_type": "stream",
          "text": [
            "X_train shape: (27439, 74)\n",
            "X_test shape: (6860, 74)\n",
            "y_train shape: (27439,)\n",
            "y_test shape: (6860,)\n"
          ]
        }
      ],
      "source": [
        "# Split our preprocessed data into our features and target arrays\n",
        "# Define the target variable\n",
        "y = application_df_encoded[\"IS_SUCCESSFUL\"].values\n",
        "\n",
        "# Define the feature variables\n",
        "X = application_df_encoded.drop(columns=[\"IS_SUCCESSFUL\"]).values\n",
        "\n",
        "# Split the preprocessed data into a training and testing dataset\n",
        "# Split the data into training and testing sets (e.g., 80% train, 20% test)\n",
        "X_train, X_test, y_train, y_test = train_test_split(X, y, test_size=0.2, random_state=42)\n",
        "\n",
        "# Display the shapes of the resulting arrays to verify the split\n",
        "print(\"X_train shape:\", X_train.shape)\n",
        "print(\"X_test shape:\", X_test.shape)\n",
        "print(\"y_train shape:\", y_train.shape)\n",
        "print(\"y_test shape:\", y_test.shape)"
      ]
    },
    {
      "cell_type": "code",
      "execution_count": 16,
      "metadata": {
        "id": "kBnLohsTNW3d"
      },
      "outputs": [],
      "source": [
        "# Perform one-hot encoding for the target variable\n",
        "from keras.utils import to_categorical\n",
        "y_train_enc = to_categorical(y_train)\n",
        "y_test_enc = to_categorical(y_test)"
      ]
    },
    {
      "cell_type": "code",
      "execution_count": 17,
      "metadata": {
        "id": "qTfZA0lAhHk1"
      },
      "outputs": [],
      "source": [
        "# Create a StandardScaler instances\n",
        "scaler = StandardScaler()\n",
        "\n",
        "# Fit the StandardScaler\n",
        "X_scaler = scaler.fit(X_train)\n",
        "\n",
        "# Scale the data\n",
        "X_train_scaled = X_scaler.transform(X_train)\n",
        "X_test_scaled = X_scaler.transform(X_test)"
      ]
    },
    {
      "cell_type": "markdown",
      "metadata": {
        "id": "Wr22oet8hHk2"
      },
      "source": [
        "## Compile, Train and Evaluate the Model"
      ]
    },
    {
      "cell_type": "code",
      "execution_count": 18,
      "metadata": {
        "colab": {
          "base_uri": "https://localhost:8080/"
        },
        "id": "eLBbGMeyhHk3",
        "outputId": "5962e79b-307e-4c39-a5c8-127c68626ab8"
      },
      "outputs": [
        {
          "name": "stdout",
          "output_type": "stream",
          "text": [
            "Model: \"sequential\"\n",
            "_________________________________________________________________\n",
            " Layer (type)                Output Shape              Param #   \n",
            "=================================================================\n",
            " dense (Dense)               (None, 128)               9600      \n",
            "                                                                 \n",
            " dense_1 (Dense)             (None, 64)                8256      \n",
            "                                                                 \n",
            " dense_2 (Dense)             (None, 16)                1040      \n",
            "                                                                 \n",
            " dense_3 (Dense)             (None, 1)                 17        \n",
            "                                                                 \n",
            "=================================================================\n",
            "Total params: 18913 (73.88 KB)\n",
            "Trainable params: 18913 (73.88 KB)\n",
            "Non-trainable params: 0 (0.00 Byte)\n",
            "_________________________________________________________________\n"
          ]
        }
      ],
      "source": [
        "# Define the model - deep neural net, i.e., the number of input features and hidden nodes for each layer.\n",
        "\n",
        "input_features_total = len(X_train[0])\n",
        "hidden_nodes_layer1 = 128\n",
        "hidden_nodes_layer2 = 64\n",
        "hidden_nodes_layer3 = 16\n",
        "\n",
        "nn = tf.keras.models.Sequential()\n",
        "\n",
        "# First hidden layer\n",
        "nn.add(tf.keras.layers.Dense(units=hidden_nodes_layer1, input_dim = input_features_total, activation = \"relu\"))\n",
        "\n",
        "# Second hidden layer\n",
        "nn.add(tf.keras.layers.Dense(units=hidden_nodes_layer2, activation = \"relu\"))\n",
        "\n",
        "# Third hidden layer\n",
        "nn.add(tf.keras.layers.Dense(units=hidden_nodes_layer3, activation = \"relu\"))\n",
        "\n",
        "# Output layer\n",
        "nn.add(tf.keras.layers.Dense(units=1, activation=\"sigmoid\"))\n",
        "\n",
        "# Check the structure of the model\n",
        "nn.summary()"
      ]
    },
    {
      "cell_type": "code",
      "execution_count": 19,
      "metadata": {
        "id": "JIg3EVbJhHk3"
      },
      "outputs": [],
      "source": [
        "# Compile the model\n",
        "nn.compile(loss=\"binary_crossentropy\", optimizer=\"adam\", metrics=[\"accuracy\"])"
      ]
    },
    {
      "cell_type": "code",
      "execution_count": 20,
      "metadata": {
        "colab": {
          "base_uri": "https://localhost:8080/"
        },
        "id": "TKjch3SDhHk4",
        "outputId": "5d27356c-5fb2-4832-d6b0-596f6247926a"
      },
      "outputs": [
        {
          "name": "stdout",
          "output_type": "stream",
          "text": [
            "Epoch 1/50\n",
            "858/858 [==============================] - 3s 2ms/step - loss: 0.5085 - accuracy: 0.7465\n",
            "Epoch 2/50\n",
            "858/858 [==============================] - 1s 2ms/step - loss: 0.4921 - accuracy: 0.7576\n",
            "Epoch 3/50\n",
            "858/858 [==============================] - 1s 2ms/step - loss: 0.4890 - accuracy: 0.7587\n",
            "Epoch 4/50\n",
            "858/858 [==============================] - 1s 2ms/step - loss: 0.4870 - accuracy: 0.7595\n",
            "Epoch 5/50\n",
            "858/858 [==============================] - 1s 2ms/step - loss: 0.4854 - accuracy: 0.7586\n",
            "Epoch 6/50\n",
            "858/858 [==============================] - 1s 2ms/step - loss: 0.4850 - accuracy: 0.7607\n",
            "Epoch 7/50\n",
            "858/858 [==============================] - 1s 2ms/step - loss: 0.4832 - accuracy: 0.7606\n",
            "Epoch 8/50\n",
            "858/858 [==============================] - 1s 2ms/step - loss: 0.4833 - accuracy: 0.7595\n",
            "Epoch 9/50\n",
            "858/858 [==============================] - 1s 2ms/step - loss: 0.4822 - accuracy: 0.7629\n",
            "Epoch 10/50\n",
            "858/858 [==============================] - 1s 2ms/step - loss: 0.4819 - accuracy: 0.7625\n",
            "Epoch 11/50\n",
            "858/858 [==============================] - 1s 2ms/step - loss: 0.4812 - accuracy: 0.7642\n",
            "Epoch 12/50\n",
            "858/858 [==============================] - 1s 2ms/step - loss: 0.4807 - accuracy: 0.7642\n",
            "Epoch 13/50\n",
            "858/858 [==============================] - 1s 2ms/step - loss: 0.4800 - accuracy: 0.7639\n",
            "Epoch 14/50\n",
            "858/858 [==============================] - 1s 2ms/step - loss: 0.4797 - accuracy: 0.7661\n",
            "Epoch 15/50\n",
            "858/858 [==============================] - 1s 2ms/step - loss: 0.4794 - accuracy: 0.7656\n",
            "Epoch 16/50\n",
            "858/858 [==============================] - 1s 2ms/step - loss: 0.4783 - accuracy: 0.7654\n",
            "Epoch 17/50\n",
            "858/858 [==============================] - 1s 2ms/step - loss: 0.4784 - accuracy: 0.7661\n",
            "Epoch 18/50\n",
            "858/858 [==============================] - 1s 2ms/step - loss: 0.4772 - accuracy: 0.7656\n",
            "Epoch 19/50\n",
            "858/858 [==============================] - 1s 2ms/step - loss: 0.4775 - accuracy: 0.7644\n",
            "Epoch 20/50\n",
            "858/858 [==============================] - 1s 2ms/step - loss: 0.4771 - accuracy: 0.7661\n",
            "Epoch 21/50\n",
            "858/858 [==============================] - 1s 2ms/step - loss: 0.4768 - accuracy: 0.7652\n",
            "Epoch 22/50\n",
            "858/858 [==============================] - 1s 2ms/step - loss: 0.4764 - accuracy: 0.7667\n",
            "Epoch 23/50\n",
            "858/858 [==============================] - 1s 2ms/step - loss: 0.4758 - accuracy: 0.7659\n",
            "Epoch 24/50\n",
            "858/858 [==============================] - 1s 2ms/step - loss: 0.4756 - accuracy: 0.7662\n",
            "Epoch 25/50\n",
            "858/858 [==============================] - 1s 2ms/step - loss: 0.4752 - accuracy: 0.7674\n",
            "Epoch 26/50\n",
            "858/858 [==============================] - 1s 2ms/step - loss: 0.4751 - accuracy: 0.7674\n",
            "Epoch 27/50\n",
            "858/858 [==============================] - 1s 2ms/step - loss: 0.4749 - accuracy: 0.7666\n",
            "Epoch 28/50\n",
            "858/858 [==============================] - 1s 2ms/step - loss: 0.4745 - accuracy: 0.7673\n",
            "Epoch 29/50\n",
            "858/858 [==============================] - 1s 2ms/step - loss: 0.4742 - accuracy: 0.7672\n",
            "Epoch 30/50\n",
            "858/858 [==============================] - 1s 2ms/step - loss: 0.4739 - accuracy: 0.7672\n",
            "Epoch 31/50\n",
            "858/858 [==============================] - 1s 2ms/step - loss: 0.4736 - accuracy: 0.7678\n",
            "Epoch 32/50\n",
            "858/858 [==============================] - 1s 2ms/step - loss: 0.4738 - accuracy: 0.7670\n",
            "Epoch 33/50\n",
            "858/858 [==============================] - 1s 2ms/step - loss: 0.4738 - accuracy: 0.7676\n",
            "Epoch 34/50\n",
            "858/858 [==============================] - 1s 2ms/step - loss: 0.4731 - accuracy: 0.7686\n",
            "Epoch 35/50\n",
            "858/858 [==============================] - 1s 2ms/step - loss: 0.4728 - accuracy: 0.7678\n",
            "Epoch 36/50\n",
            "858/858 [==============================] - 1s 2ms/step - loss: 0.4726 - accuracy: 0.7677\n",
            "Epoch 37/50\n",
            "858/858 [==============================] - 1s 2ms/step - loss: 0.4728 - accuracy: 0.7689\n",
            "Epoch 38/50\n",
            "858/858 [==============================] - 1s 2ms/step - loss: 0.4719 - accuracy: 0.7684\n",
            "Epoch 39/50\n",
            "858/858 [==============================] - 1s 2ms/step - loss: 0.4726 - accuracy: 0.7685\n",
            "Epoch 40/50\n",
            "858/858 [==============================] - 1s 2ms/step - loss: 0.4722 - accuracy: 0.7683\n",
            "Epoch 41/50\n",
            "858/858 [==============================] - 1s 2ms/step - loss: 0.4721 - accuracy: 0.7682\n",
            "Epoch 42/50\n",
            "858/858 [==============================] - 1s 2ms/step - loss: 0.4717 - accuracy: 0.7681\n",
            "Epoch 43/50\n",
            "858/858 [==============================] - 1s 2ms/step - loss: 0.4715 - accuracy: 0.7682\n",
            "Epoch 44/50\n",
            "858/858 [==============================] - 1s 2ms/step - loss: 0.4717 - accuracy: 0.7686\n",
            "Epoch 45/50\n",
            "858/858 [==============================] - 1s 2ms/step - loss: 0.4712 - accuracy: 0.7688\n",
            "Epoch 46/50\n",
            "858/858 [==============================] - 1s 2ms/step - loss: 0.4710 - accuracy: 0.7685\n",
            "Epoch 47/50\n",
            "858/858 [==============================] - 1s 2ms/step - loss: 0.4709 - accuracy: 0.7674\n",
            "Epoch 48/50\n",
            "858/858 [==============================] - 1s 2ms/step - loss: 0.4708 - accuracy: 0.7686\n",
            "Epoch 49/50\n",
            "858/858 [==============================] - 1s 2ms/step - loss: 0.4710 - accuracy: 0.7698\n",
            "Epoch 50/50\n",
            "858/858 [==============================] - 1s 2ms/step - loss: 0.4704 - accuracy: 0.7695\n"
          ]
        }
      ],
      "source": [
        "# Train the model\n",
        "fit_model = nn.fit(X_train_scaled,y_train,epochs=50)"
      ]
    },
    {
      "cell_type": "code",
      "execution_count": 21,
      "metadata": {
        "colab": {
          "base_uri": "https://localhost:8080/"
        },
        "id": "9Rjp2BavhHk5",
        "outputId": "c40f5659-d89f-41a1-ce7f-8bb15ac3c31e"
      },
      "outputs": [
        {
          "name": "stdout",
          "output_type": "stream",
          "text": [
            "215/215 - 0s - loss: 0.5291 - accuracy: 0.7496 - 417ms/epoch - 2ms/step\n",
            "Loss: 0.5290688872337341, Accuracy: 0.749562680721283\n"
          ]
        }
      ],
      "source": [
        "# Evaluate the model using the test data\n",
        "model_loss, model_accuracy = nn.evaluate(X_test_scaled,y_test,verbose=2)\n",
        "print(f\"Loss: {model_loss}, Accuracy: {model_accuracy}\")"
      ]
    },
    {
      "cell_type": "code",
      "execution_count": 22,
      "metadata": {
        "colab": {
          "base_uri": "https://localhost:8080/"
        },
        "id": "v_TnqdPCQtuy",
        "outputId": "d271382a-2282-428b-9874-881f374c68db"
      },
      "outputs": [
        {
          "name": "stdout",
          "output_type": "stream",
          "text": [
            "Model: \"sequential_1\"\n",
            "_________________________________________________________________\n",
            " Layer (type)                Output Shape              Param #   \n",
            "=================================================================\n",
            " dense_4 (Dense)             (None, 512)               38400     \n",
            "                                                                 \n",
            " dense_5 (Dense)             (None, 128)               65664     \n",
            "                                                                 \n",
            " dense_6 (Dense)             (None, 32)                4128      \n",
            "                                                                 \n",
            " dense_7 (Dense)             (None, 2)                 66        \n",
            "                                                                 \n",
            "=================================================================\n",
            "Total params: 108258 (422.88 KB)\n",
            "Trainable params: 108258 (422.88 KB)\n",
            "Non-trainable params: 0 (0.00 Byte)\n",
            "_________________________________________________________________\n"
          ]
        }
      ],
      "source": [
        "# Define the model - deep neural net, i.e., the number of input features and hidden nodes for each layer.\n",
        "\n",
        "input_features_total = len(X_train[0])\n",
        "hidden_nodes_layer1 = 512\n",
        "hidden_nodes_layer2 = 128\n",
        "hidden_nodes_layer3 = 32\n",
        "\n",
        "nn2 = tf.keras.models.Sequential()\n",
        "\n",
        "# First hidden layer\n",
        "nn2.add(tf.keras.layers.Dense(units=hidden_nodes_layer1, input_dim = input_features_total, activation = \"relu\"))\n",
        "\n",
        "# Second hidden layer\n",
        "nn2.add(tf.keras.layers.Dense(units=hidden_nodes_layer2, activation = \"relu\"))\n",
        "\n",
        "# Third hidden layer\n",
        "nn2.add(tf.keras.layers.Dense(units=hidden_nodes_layer3, activation = \"relu\"))\n",
        "\n",
        "# Output layer\n",
        "nn2.add(tf.keras.layers.Dense(units=2, activation=\"softmax\"))\n",
        "\n",
        "# Check the structure of the model\n",
        "nn2.summary()"
      ]
    },
    {
      "cell_type": "code",
      "execution_count": 23,
      "metadata": {
        "id": "7TkzAVIpQtuz"
      },
      "outputs": [],
      "source": [
        "# Compile the model\n",
        "nn2.compile(loss=\"categorical_crossentropy\", optimizer=\"adam\", metrics=[\"accuracy\"])"
      ]
    },
    {
      "cell_type": "code",
      "execution_count": 24,
      "metadata": {
        "colab": {
          "base_uri": "https://localhost:8080/"
        },
        "id": "jA5ZlxG4Qtu0",
        "outputId": "168eec19-724e-4e2b-fc10-c511234c4fc5"
      },
      "outputs": [
        {
          "name": "stdout",
          "output_type": "stream",
          "text": [
            "Epoch 1/50\n",
            "858/858 [==============================] - 3s 2ms/step - loss: 0.5088 - accuracy: 0.7487\n",
            "Epoch 2/50\n",
            "858/858 [==============================] - 2s 2ms/step - loss: 0.4936 - accuracy: 0.7567\n",
            "Epoch 3/50\n",
            "858/858 [==============================] - 2s 2ms/step - loss: 0.4897 - accuracy: 0.7599\n",
            "Epoch 4/50\n",
            "858/858 [==============================] - 2s 2ms/step - loss: 0.4886 - accuracy: 0.7610\n",
            "Epoch 5/50\n",
            "858/858 [==============================] - 2s 2ms/step - loss: 0.4863 - accuracy: 0.7621\n",
            "Epoch 6/50\n",
            "858/858 [==============================] - 2s 2ms/step - loss: 0.4862 - accuracy: 0.7614\n",
            "Epoch 7/50\n",
            "858/858 [==============================] - 2s 2ms/step - loss: 0.4852 - accuracy: 0.7616\n",
            "Epoch 8/50\n",
            "858/858 [==============================] - 2s 2ms/step - loss: 0.4842 - accuracy: 0.7619\n",
            "Epoch 9/50\n",
            "858/858 [==============================] - 2s 2ms/step - loss: 0.4833 - accuracy: 0.7626\n",
            "Epoch 10/50\n",
            "858/858 [==============================] - 2s 2ms/step - loss: 0.4833 - accuracy: 0.7630\n",
            "Epoch 11/50\n",
            "858/858 [==============================] - 2s 2ms/step - loss: 0.4814 - accuracy: 0.7645\n",
            "Epoch 12/50\n",
            "858/858 [==============================] - 2s 2ms/step - loss: 0.4813 - accuracy: 0.7639\n",
            "Epoch 13/50\n",
            "858/858 [==============================] - 2s 2ms/step - loss: 0.4809 - accuracy: 0.7646\n",
            "Epoch 14/50\n",
            "858/858 [==============================] - 2s 2ms/step - loss: 0.4807 - accuracy: 0.7638\n",
            "Epoch 15/50\n",
            "858/858 [==============================] - 2s 2ms/step - loss: 0.4798 - accuracy: 0.7639\n",
            "Epoch 16/50\n",
            "858/858 [==============================] - 2s 2ms/step - loss: 0.4791 - accuracy: 0.7655\n",
            "Epoch 17/50\n",
            "858/858 [==============================] - 2s 2ms/step - loss: 0.4786 - accuracy: 0.7647\n",
            "Epoch 18/50\n",
            "858/858 [==============================] - 2s 2ms/step - loss: 0.4782 - accuracy: 0.7652\n",
            "Epoch 19/50\n",
            "858/858 [==============================] - 2s 2ms/step - loss: 0.4781 - accuracy: 0.7658\n",
            "Epoch 20/50\n",
            "858/858 [==============================] - 2s 2ms/step - loss: 0.4776 - accuracy: 0.7653\n",
            "Epoch 21/50\n",
            "858/858 [==============================] - 2s 2ms/step - loss: 0.4769 - accuracy: 0.7655\n",
            "Epoch 22/50\n",
            "858/858 [==============================] - 2s 2ms/step - loss: 0.4768 - accuracy: 0.7667\n",
            "Epoch 23/50\n",
            "858/858 [==============================] - 2s 2ms/step - loss: 0.4761 - accuracy: 0.7665\n",
            "Epoch 24/50\n",
            "858/858 [==============================] - 2s 2ms/step - loss: 0.4759 - accuracy: 0.7677\n",
            "Epoch 25/50\n",
            "858/858 [==============================] - 2s 2ms/step - loss: 0.4760 - accuracy: 0.7666\n",
            "Epoch 26/50\n",
            "858/858 [==============================] - 2s 2ms/step - loss: 0.4757 - accuracy: 0.7657\n",
            "Epoch 27/50\n",
            "858/858 [==============================] - 2s 2ms/step - loss: 0.4755 - accuracy: 0.7659\n",
            "Epoch 28/50\n",
            "858/858 [==============================] - 2s 2ms/step - loss: 0.4745 - accuracy: 0.7673\n",
            "Epoch 29/50\n",
            "858/858 [==============================] - 2s 2ms/step - loss: 0.4746 - accuracy: 0.7669\n",
            "Epoch 30/50\n",
            "858/858 [==============================] - 2s 2ms/step - loss: 0.4742 - accuracy: 0.7683\n",
            "Epoch 31/50\n",
            "858/858 [==============================] - 2s 2ms/step - loss: 0.4741 - accuracy: 0.7677\n",
            "Epoch 32/50\n",
            "858/858 [==============================] - 2s 2ms/step - loss: 0.4742 - accuracy: 0.7675\n",
            "Epoch 33/50\n",
            "858/858 [==============================] - 2s 2ms/step - loss: 0.4739 - accuracy: 0.7667\n",
            "Epoch 34/50\n",
            "858/858 [==============================] - 2s 2ms/step - loss: 0.4733 - accuracy: 0.7663\n",
            "Epoch 35/50\n",
            "858/858 [==============================] - 2s 2ms/step - loss: 0.4735 - accuracy: 0.7670\n",
            "Epoch 36/50\n",
            "858/858 [==============================] - 2s 2ms/step - loss: 0.4742 - accuracy: 0.7668\n",
            "Epoch 37/50\n",
            "858/858 [==============================] - 2s 2ms/step - loss: 0.4726 - accuracy: 0.7665\n",
            "Epoch 38/50\n",
            "858/858 [==============================] - 2s 2ms/step - loss: 0.4724 - accuracy: 0.7678\n",
            "Epoch 39/50\n",
            "858/858 [==============================] - 2s 2ms/step - loss: 0.4726 - accuracy: 0.7673\n",
            "Epoch 40/50\n",
            "858/858 [==============================] - 2s 2ms/step - loss: 0.4728 - accuracy: 0.7677\n",
            "Epoch 41/50\n",
            "858/858 [==============================] - 2s 2ms/step - loss: 0.4724 - accuracy: 0.7680\n",
            "Epoch 42/50\n",
            "858/858 [==============================] - 2s 2ms/step - loss: 0.4718 - accuracy: 0.7683\n",
            "Epoch 43/50\n",
            "858/858 [==============================] - 2s 2ms/step - loss: 0.4726 - accuracy: 0.7677\n",
            "Epoch 44/50\n",
            "858/858 [==============================] - 2s 2ms/step - loss: 0.4715 - accuracy: 0.7667\n",
            "Epoch 45/50\n",
            "858/858 [==============================] - 2s 2ms/step - loss: 0.4714 - accuracy: 0.7680\n",
            "Epoch 46/50\n",
            "858/858 [==============================] - 2s 2ms/step - loss: 0.4713 - accuracy: 0.7677\n",
            "Epoch 47/50\n",
            "858/858 [==============================] - 2s 2ms/step - loss: 0.4711 - accuracy: 0.7685\n",
            "Epoch 48/50\n",
            "858/858 [==============================] - 2s 2ms/step - loss: 0.4706 - accuracy: 0.7690\n",
            "Epoch 49/50\n",
            "858/858 [==============================] - 2s 2ms/step - loss: 0.4723 - accuracy: 0.7686\n",
            "Epoch 50/50\n",
            "858/858 [==============================] - 2s 2ms/step - loss: 0.4712 - accuracy: 0.7680\n"
          ]
        }
      ],
      "source": [
        "# Train the model\n",
        "fit_model2 = nn2.fit(X_train_scaled,y_train_enc,epochs=50)"
      ]
    },
    {
      "cell_type": "code",
      "execution_count": 25,
      "metadata": {
        "colab": {
          "base_uri": "https://localhost:8080/"
        },
        "id": "tmUG5jzaQtu0",
        "outputId": "47d6e9f9-f5e1-4f1e-bec0-88a85a989887"
      },
      "outputs": [
        {
          "name": "stdout",
          "output_type": "stream",
          "text": [
            "215/215 - 0s - loss: 0.5363 - accuracy: 0.7496 - 408ms/epoch - 2ms/step\n",
            "Loss: 0.5362971425056458, Accuracy: 0.749562680721283\n"
          ]
        }
      ],
      "source": [
        "# Evaluate the model using the test data\n",
        "model_loss, model_accuracy = nn2.evaluate(X_test_scaled,y_test_enc,verbose=2)\n",
        "print(f\"Loss: {model_loss}, Accuracy: {model_accuracy}\")"
      ]
    },
    {
      "cell_type": "code",
      "execution_count": 26,
      "metadata": {
        "colab": {
          "base_uri": "https://localhost:8080/"
        },
        "id": "uUOID_ebM9ol",
        "outputId": "0301a116-6002-43df-9418-ee3c56db8065"
      },
      "outputs": [
        {
          "name": "stdout",
          "output_type": "stream",
          "text": [
            "Model: \"sequential_2\"\n",
            "_________________________________________________________________\n",
            " Layer (type)                Output Shape              Param #   \n",
            "=================================================================\n",
            " dense_8 (Dense)             (None, 128)               9600      \n",
            "                                                                 \n",
            " dense_9 (Dense)             (None, 64)                8256      \n",
            "                                                                 \n",
            " dense_10 (Dense)            (None, 16)                1040      \n",
            "                                                                 \n",
            " dense_11 (Dense)            (None, 1)                 17        \n",
            "                                                                 \n",
            "=================================================================\n",
            "Total params: 18913 (73.88 KB)\n",
            "Trainable params: 18913 (73.88 KB)\n",
            "Non-trainable params: 0 (0.00 Byte)\n",
            "_________________________________________________________________\n"
          ]
        }
      ],
      "source": [
        "# Define the model - deep neural net, i.e., the number of input features and hidden nodes for each layer.\n",
        "\n",
        "input_features_total = len(X_train[0])\n",
        "hidden_nodes_layer1 = 128\n",
        "hidden_nodes_layer2 = 64\n",
        "hidden_nodes_layer3 = 16\n",
        "\n",
        "nn3 = tf.keras.models.Sequential()\n",
        "\n",
        "# First hidden layer\n",
        "nn3.add(tf.keras.layers.Dense(units=hidden_nodes_layer1, input_dim = input_features_total, activation = \"relu\"))\n",
        "\n",
        "# Second hidden layer\n",
        "nn3.add(tf.keras.layers.Dense(units=hidden_nodes_layer2, activation = \"relu\"))\n",
        "\n",
        "# Third hidden layer\n",
        "nn3.add(tf.keras.layers.Dense(units=hidden_nodes_layer3, activation = \"relu\"))\n",
        "\n",
        "# Output layer\n",
        "nn3.add(tf.keras.layers.Dense(units=1, activation=\"sigmoid\"))\n",
        "\n",
        "# Check the structure of the model\n",
        "nn3.summary()"
      ]
    },
    {
      "cell_type": "code",
      "execution_count": 27,
      "metadata": {
        "id": "NHCnrlFJN5JW"
      },
      "outputs": [],
      "source": [
        "# Compile the model\n",
        "from tensorflow.keras.optimizers import Adam\n",
        "\n",
        "# Create an Adam optimizer with a custom learning rate\n",
        "custom_lr = 0.001  # Set your desired learning rate here\n",
        "custom_optimizer = Adam(learning_rate=custom_lr)\n",
        "\n",
        "# Compile the model with the custom optimizer\n",
        "nn3.compile(loss=\"binary_crossentropy\", optimizer=custom_optimizer, metrics=[\"accuracy\"])"
      ]
    },
    {
      "cell_type": "code",
      "execution_count": 28,
      "metadata": {
        "id": "qOimG9xMSOcl"
      },
      "outputs": [],
      "source": [
        "from tensorflow.keras.callbacks import ModelCheckpoint\n",
        "\n",
        "# Define a ModelCheckpoint callback\n",
        "checkpoint = ModelCheckpoint(\n",
        "    \"best_model_weights.h5\",\n",
        "    monitor=\"loss\",\n",
        "    verbose=1,\n",
        "    save_best_only=True,\n",
        "    mode=\"min\",\n",
        "    save_weights_only=True,\n",
        "    save_freq=\"epoch\"\n",
        ")"
      ]
    },
    {
      "cell_type": "code",
      "execution_count": 29,
      "metadata": {
        "colab": {
          "base_uri": "https://localhost:8080/"
        },
        "id": "ylP9VtXdN5JX",
        "outputId": "29b3de8e-f6cc-4efc-f37b-9caeeb395030"
      },
      "outputs": [
        {
          "name": "stdout",
          "output_type": "stream",
          "text": [
            "Epoch 1/50\n",
            "401/429 [===========================>..] - ETA: 0s - loss: 0.5094 - accuracy: 0.7460\n",
            "Epoch 1: loss improved from inf to 0.50812, saving model to best_model_weights.h5\n",
            "429/429 [==============================] - 2s 2ms/step - loss: 0.5081 - accuracy: 0.7463\n",
            "Epoch 2/50\n",
            "404/429 [===========================>..] - ETA: 0s - loss: 0.4923 - accuracy: 0.7569\n",
            "Epoch 2: loss improved from 0.50812 to 0.49163, saving model to best_model_weights.h5\n",
            "429/429 [==============================] - 1s 2ms/step - loss: 0.4916 - accuracy: 0.7575\n",
            "Epoch 3/50\n",
            "403/429 [===========================>..] - ETA: 0s - loss: 0.4876 - accuracy: 0.7584\n",
            "Epoch 3: loss improved from 0.49163 to 0.48825, saving model to best_model_weights.h5\n",
            "429/429 [==============================] - 1s 2ms/step - loss: 0.4883 - accuracy: 0.7582\n",
            "Epoch 4/50\n",
            "411/429 [===========================>..] - ETA: 0s - loss: 0.4869 - accuracy: 0.7584\n",
            "Epoch 4: loss improved from 0.48825 to 0.48637, saving model to best_model_weights.h5\n",
            "429/429 [==============================] - 1s 2ms/step - loss: 0.4864 - accuracy: 0.7589\n",
            "Epoch 5/50\n",
            "413/429 [===========================>..] - ETA: 0s - loss: 0.4856 - accuracy: 0.7612\n",
            "Epoch 5: loss improved from 0.48637 to 0.48490, saving model to best_model_weights.h5\n",
            "429/429 [==============================] - 1s 2ms/step - loss: 0.4849 - accuracy: 0.7619\n",
            "Epoch 6/50\n",
            "402/429 [===========================>..] - ETA: 0s - loss: 0.4849 - accuracy: 0.7629\n",
            "Epoch 6: loss improved from 0.48490 to 0.48382, saving model to best_model_weights.h5\n",
            "429/429 [==============================] - 1s 2ms/step - loss: 0.4838 - accuracy: 0.7631\n",
            "Epoch 7/50\n",
            "409/429 [===========================>..] - ETA: 0s - loss: 0.4830 - accuracy: 0.7612\n",
            "Epoch 7: loss improved from 0.48382 to 0.48307, saving model to best_model_weights.h5\n",
            "429/429 [==============================] - 1s 2ms/step - loss: 0.4831 - accuracy: 0.7611\n",
            "Epoch 8/50\n",
            "400/429 [==========================>...] - ETA: 0s - loss: 0.4836 - accuracy: 0.7620\n",
            "Epoch 8: loss improved from 0.48307 to 0.48242, saving model to best_model_weights.h5\n",
            "429/429 [==============================] - 1s 2ms/step - loss: 0.4824 - accuracy: 0.7630\n",
            "Epoch 9/50\n",
            "412/429 [===========================>..] - ETA: 0s - loss: 0.4821 - accuracy: 0.7619\n",
            "Epoch 9: loss improved from 0.48242 to 0.48187, saving model to best_model_weights.h5\n",
            "429/429 [==============================] - 1s 2ms/step - loss: 0.4819 - accuracy: 0.7621\n",
            "Epoch 10/50\n",
            "401/429 [===========================>..] - ETA: 0s - loss: 0.4815 - accuracy: 0.7650\n",
            "Epoch 10: loss improved from 0.48187 to 0.48168, saving model to best_model_weights.h5\n",
            "429/429 [==============================] - 1s 2ms/step - loss: 0.4817 - accuracy: 0.7643\n",
            "Epoch 11/50\n",
            "407/429 [===========================>..] - ETA: 0s - loss: 0.4818 - accuracy: 0.7634\n",
            "Epoch 11: loss improved from 0.48168 to 0.48090, saving model to best_model_weights.h5\n",
            "429/429 [==============================] - 1s 2ms/step - loss: 0.4809 - accuracy: 0.7643\n",
            "Epoch 12/50\n",
            "401/429 [===========================>..] - ETA: 0s - loss: 0.4805 - accuracy: 0.7632\n",
            "Epoch 12: loss improved from 0.48090 to 0.48034, saving model to best_model_weights.h5\n",
            "429/429 [==============================] - 1s 2ms/step - loss: 0.4803 - accuracy: 0.7636\n",
            "Epoch 13/50\n",
            "417/429 [============================>.] - ETA: 0s - loss: 0.4795 - accuracy: 0.7643\n",
            "Epoch 13: loss improved from 0.48034 to 0.47974, saving model to best_model_weights.h5\n",
            "429/429 [==============================] - 1s 2ms/step - loss: 0.4797 - accuracy: 0.7642\n",
            "Epoch 14/50\n",
            "414/429 [===========================>..] - ETA: 0s - loss: 0.4790 - accuracy: 0.7646\n",
            "Epoch 14: loss improved from 0.47974 to 0.47909, saving model to best_model_weights.h5\n",
            "429/429 [==============================] - 1s 2ms/step - loss: 0.4791 - accuracy: 0.7650\n",
            "Epoch 15/50\n",
            "405/429 [===========================>..] - ETA: 0s - loss: 0.4793 - accuracy: 0.7625\n",
            "Epoch 15: loss improved from 0.47909 to 0.47883, saving model to best_model_weights.h5\n",
            "429/429 [==============================] - 1s 2ms/step - loss: 0.4788 - accuracy: 0.7634\n",
            "Epoch 16/50\n",
            "407/429 [===========================>..] - ETA: 0s - loss: 0.4777 - accuracy: 0.7661\n",
            "Epoch 16: loss improved from 0.47883 to 0.47823, saving model to best_model_weights.h5\n",
            "429/429 [==============================] - 1s 2ms/step - loss: 0.4782 - accuracy: 0.7657\n",
            "Epoch 17/50\n",
            "407/429 [===========================>..] - ETA: 0s - loss: 0.4781 - accuracy: 0.7649\n",
            "Epoch 17: loss did not improve from 0.47823\n",
            "429/429 [==============================] - 1s 2ms/step - loss: 0.4782 - accuracy: 0.7650\n",
            "Epoch 18/50\n",
            "420/429 [============================>.] - ETA: 0s - loss: 0.4776 - accuracy: 0.7652\n",
            "Epoch 18: loss improved from 0.47823 to 0.47820, saving model to best_model_weights.h5\n",
            "429/429 [==============================] - 1s 2ms/step - loss: 0.4782 - accuracy: 0.7649\n",
            "Epoch 19/50\n",
            "403/429 [===========================>..] - ETA: 0s - loss: 0.4770 - accuracy: 0.7655\n",
            "Epoch 19: loss improved from 0.47820 to 0.47729, saving model to best_model_weights.h5\n",
            "429/429 [==============================] - 1s 2ms/step - loss: 0.4773 - accuracy: 0.7652\n",
            "Epoch 20/50\n",
            "410/429 [===========================>..] - ETA: 0s - loss: 0.4769 - accuracy: 0.7659\n",
            "Epoch 20: loss improved from 0.47729 to 0.47687, saving model to best_model_weights.h5\n",
            "429/429 [==============================] - 1s 2ms/step - loss: 0.4769 - accuracy: 0.7665\n",
            "Epoch 21/50\n",
            "402/429 [===========================>..] - ETA: 0s - loss: 0.4762 - accuracy: 0.7666\n",
            "Epoch 21: loss improved from 0.47687 to 0.47643, saving model to best_model_weights.h5\n",
            "429/429 [==============================] - 1s 2ms/step - loss: 0.4764 - accuracy: 0.7660\n",
            "Epoch 22/50\n",
            "399/429 [==========================>...] - ETA: 0s - loss: 0.4783 - accuracy: 0.7658\n",
            "Epoch 22: loss did not improve from 0.47643\n",
            "429/429 [==============================] - 1s 2ms/step - loss: 0.4772 - accuracy: 0.7661\n",
            "Epoch 23/50\n",
            "424/429 [============================>.] - ETA: 0s - loss: 0.4762 - accuracy: 0.7670\n",
            "Epoch 23: loss improved from 0.47643 to 0.47630, saving model to best_model_weights.h5\n",
            "429/429 [==============================] - 1s 2ms/step - loss: 0.4763 - accuracy: 0.7669\n",
            "Epoch 24/50\n",
            "410/429 [===========================>..] - ETA: 0s - loss: 0.4755 - accuracy: 0.7668\n",
            "Epoch 24: loss improved from 0.47630 to 0.47587, saving model to best_model_weights.h5\n",
            "429/429 [==============================] - 1s 2ms/step - loss: 0.4759 - accuracy: 0.7667\n",
            "Epoch 25/50\n",
            "408/429 [===========================>..] - ETA: 0s - loss: 0.4766 - accuracy: 0.7657\n",
            "Epoch 25: loss did not improve from 0.47587\n",
            "429/429 [==============================] - 1s 2ms/step - loss: 0.4764 - accuracy: 0.7664\n",
            "Epoch 26/50\n",
            "409/429 [===========================>..] - ETA: 0s - loss: 0.4762 - accuracy: 0.7668\n",
            "Epoch 26: loss improved from 0.47587 to 0.47563, saving model to best_model_weights.h5\n",
            "429/429 [==============================] - 1s 2ms/step - loss: 0.4756 - accuracy: 0.7672\n",
            "Epoch 27/50\n",
            "404/429 [===========================>..] - ETA: 0s - loss: 0.4745 - accuracy: 0.7674\n",
            "Epoch 27: loss improved from 0.47563 to 0.47501, saving model to best_model_weights.h5\n",
            "429/429 [==============================] - 1s 2ms/step - loss: 0.4750 - accuracy: 0.7669\n",
            "Epoch 28/50\n",
            "408/429 [===========================>..] - ETA: 0s - loss: 0.4747 - accuracy: 0.7681\n",
            "Epoch 28: loss did not improve from 0.47501\n",
            "429/429 [==============================] - 1s 2ms/step - loss: 0.4751 - accuracy: 0.7677\n",
            "Epoch 29/50\n",
            "429/429 [==============================] - ETA: 0s - loss: 0.4749 - accuracy: 0.7675\n",
            "Epoch 29: loss improved from 0.47501 to 0.47486, saving model to best_model_weights.h5\n",
            "429/429 [==============================] - 1s 2ms/step - loss: 0.4749 - accuracy: 0.7675\n",
            "Epoch 30/50\n",
            "416/429 [============================>.] - ETA: 0s - loss: 0.4740 - accuracy: 0.7669\n",
            "Epoch 30: loss improved from 0.47486 to 0.47444, saving model to best_model_weights.h5\n",
            "429/429 [==============================] - 1s 2ms/step - loss: 0.4744 - accuracy: 0.7666\n",
            "Epoch 31/50\n",
            "416/429 [============================>.] - ETA: 0s - loss: 0.4743 - accuracy: 0.7681\n",
            "Epoch 31: loss did not improve from 0.47444\n",
            "429/429 [==============================] - 1s 2ms/step - loss: 0.4745 - accuracy: 0.7679\n",
            "Epoch 32/50\n",
            "402/429 [===========================>..] - ETA: 0s - loss: 0.4730 - accuracy: 0.7685\n",
            "Epoch 32: loss did not improve from 0.47444\n",
            "429/429 [==============================] - 1s 2ms/step - loss: 0.4746 - accuracy: 0.7674\n",
            "Epoch 33/50\n",
            "424/429 [============================>.] - ETA: 0s - loss: 0.4738 - accuracy: 0.7684\n",
            "Epoch 33: loss improved from 0.47444 to 0.47394, saving model to best_model_weights.h5\n",
            "429/429 [==============================] - 1s 2ms/step - loss: 0.4739 - accuracy: 0.7683\n",
            "Epoch 34/50\n",
            "403/429 [===========================>..] - ETA: 0s - loss: 0.4741 - accuracy: 0.7684\n",
            "Epoch 34: loss did not improve from 0.47394\n",
            "429/429 [==============================] - 1s 2ms/step - loss: 0.4740 - accuracy: 0.7684\n",
            "Epoch 35/50\n",
            "400/429 [==========================>...] - ETA: 0s - loss: 0.4738 - accuracy: 0.7683\n",
            "Epoch 35: loss did not improve from 0.47394\n",
            "429/429 [==============================] - 1s 2ms/step - loss: 0.4740 - accuracy: 0.7676\n",
            "Epoch 36/50\n",
            "412/429 [===========================>..] - ETA: 0s - loss: 0.4738 - accuracy: 0.7679\n",
            "Epoch 36: loss improved from 0.47394 to 0.47361, saving model to best_model_weights.h5\n",
            "429/429 [==============================] - 1s 2ms/step - loss: 0.4736 - accuracy: 0.7680\n",
            "Epoch 37/50\n",
            "412/429 [===========================>..] - ETA: 0s - loss: 0.4733 - accuracy: 0.7677\n",
            "Epoch 37: loss improved from 0.47361 to 0.47349, saving model to best_model_weights.h5\n",
            "429/429 [==============================] - 1s 2ms/step - loss: 0.4735 - accuracy: 0.7678\n",
            "Epoch 38/50\n",
            "428/429 [============================>.] - ETA: 0s - loss: 0.4733 - accuracy: 0.7675\n",
            "Epoch 38: loss improved from 0.47349 to 0.47324, saving model to best_model_weights.h5\n",
            "429/429 [==============================] - 1s 2ms/step - loss: 0.4732 - accuracy: 0.7675\n",
            "Epoch 39/50\n",
            "427/429 [============================>.] - ETA: 0s - loss: 0.4729 - accuracy: 0.7679\n",
            "Epoch 39: loss improved from 0.47324 to 0.47313, saving model to best_model_weights.h5\n",
            "429/429 [==============================] - 1s 2ms/step - loss: 0.4731 - accuracy: 0.7680\n",
            "Epoch 40/50\n",
            "405/429 [===========================>..] - ETA: 0s - loss: 0.4737 - accuracy: 0.7677\n",
            "Epoch 40: loss improved from 0.47313 to 0.47288, saving model to best_model_weights.h5\n",
            "429/429 [==============================] - 1s 2ms/step - loss: 0.4729 - accuracy: 0.7684\n",
            "Epoch 41/50\n",
            "399/429 [==========================>...] - ETA: 0s - loss: 0.4731 - accuracy: 0.7688\n",
            "Epoch 41: loss did not improve from 0.47288\n",
            "429/429 [==============================] - 1s 2ms/step - loss: 0.4733 - accuracy: 0.7685\n",
            "Epoch 42/50\n",
            "408/429 [===========================>..] - ETA: 0s - loss: 0.4735 - accuracy: 0.7683\n",
            "Epoch 42: loss improved from 0.47288 to 0.47267, saving model to best_model_weights.h5\n",
            "429/429 [==============================] - 1s 2ms/step - loss: 0.4727 - accuracy: 0.7688\n",
            "Epoch 43/50\n",
            "421/429 [============================>.] - ETA: 0s - loss: 0.4726 - accuracy: 0.7681\n",
            "Epoch 43: loss improved from 0.47267 to 0.47242, saving model to best_model_weights.h5\n",
            "429/429 [==============================] - 1s 2ms/step - loss: 0.4724 - accuracy: 0.7683\n",
            "Epoch 44/50\n",
            "425/429 [============================>.] - ETA: 0s - loss: 0.4719 - accuracy: 0.7685\n",
            "Epoch 44: loss did not improve from 0.47242\n",
            "429/429 [==============================] - 1s 2ms/step - loss: 0.4724 - accuracy: 0.7680\n",
            "Epoch 45/50\n",
            "428/429 [============================>.] - ETA: 0s - loss: 0.4721 - accuracy: 0.7678\n",
            "Epoch 45: loss improved from 0.47242 to 0.47210, saving model to best_model_weights.h5\n",
            "429/429 [==============================] - 1s 2ms/step - loss: 0.4721 - accuracy: 0.7678\n",
            "Epoch 46/50\n",
            "415/429 [============================>.] - ETA: 0s - loss: 0.4720 - accuracy: 0.7684\n",
            "Epoch 46: loss did not improve from 0.47210\n",
            "429/429 [==============================] - 1s 2ms/step - loss: 0.4721 - accuracy: 0.7684\n",
            "Epoch 47/50\n",
            "424/429 [============================>.] - ETA: 0s - loss: 0.4722 - accuracy: 0.7675\n",
            "Epoch 47: loss improved from 0.47210 to 0.47198, saving model to best_model_weights.h5\n",
            "429/429 [==============================] - 1s 2ms/step - loss: 0.4720 - accuracy: 0.7678\n",
            "Epoch 48/50\n",
            "410/429 [===========================>..] - ETA: 0s - loss: 0.4720 - accuracy: 0.7686\n",
            "Epoch 48: loss improved from 0.47198 to 0.47195, saving model to best_model_weights.h5\n",
            "429/429 [==============================] - 1s 2ms/step - loss: 0.4719 - accuracy: 0.7686\n",
            "Epoch 49/50\n",
            "421/429 [============================>.] - ETA: 0s - loss: 0.4717 - accuracy: 0.7689\n",
            "Epoch 49: loss improved from 0.47195 to 0.47152, saving model to best_model_weights.h5\n",
            "429/429 [==============================] - 1s 2ms/step - loss: 0.4715 - accuracy: 0.7688\n",
            "Epoch 50/50\n",
            "420/429 [============================>.] - ETA: 0s - loss: 0.4718 - accuracy: 0.7688\n",
            "Epoch 50: loss did not improve from 0.47152\n",
            "429/429 [==============================] - 1s 2ms/step - loss: 0.4716 - accuracy: 0.7689\n"
          ]
        }
      ],
      "source": [
        "# Train the model\n",
        "fit_model3 = nn3.fit(X_train_scaled,y_train,epochs=50,callbacks=[checkpoint],batch_size=64)"
      ]
    },
    {
      "cell_type": "code",
      "execution_count": 30,
      "metadata": {
        "id": "doQsQRjNTFD0"
      },
      "outputs": [],
      "source": [
        "nn3.load_weights(\"./best_model_weights.h5\")"
      ]
    },
    {
      "cell_type": "code",
      "execution_count": 31,
      "metadata": {
        "colab": {
          "base_uri": "https://localhost:8080/"
        },
        "id": "wyAs60NbOj5q",
        "outputId": "bb10949b-ca25-4d58-8fc5-21eae6a084c8"
      },
      "outputs": [
        {
          "name": "stdout",
          "output_type": "stream",
          "text": [
            "215/215 - 0s - loss: 0.5093 - accuracy: 0.7507 - 378ms/epoch - 2ms/step\n",
            "Loss: 0.5093197822570801, Accuracy: 0.7507288455963135\n"
          ]
        }
      ],
      "source": [
        "# Evaluate the model using the test data\n",
        "model_loss, model_accuracy = nn3.evaluate(X_test_scaled,y_test,verbose=2)\n",
        "print(f\"Loss: {model_loss}, Accuracy: {model_accuracy}\")"
      ]
    },
    {
      "cell_type": "code",
      "execution_count": 32,
      "metadata": {
        "id": "wMQ0FCD3hHk5"
      },
      "outputs": [
        {
          "name": "stderr",
          "output_type": "stream",
          "text": [
            "c:\\Users\\Eally\\anaconda3\\envs\\dev_class\\lib\\site-packages\\keras\\src\\engine\\training.py:3000: UserWarning: You are saving your model as an HDF5 file via `model.save()`. This file format is considered legacy. We recommend using instead the native Keras format, e.g. `model.save('my_model.keras')`.\n",
            "  saving_api.save_model(\n"
          ]
        }
      ],
      "source": [
        "# Export our model to HDF5 file\n",
        "filepath = \"AlphabetSoupCharity_Optimization.h5\"\n",
        "nn.save(filepath, save_format='h5')"
      ]
    },
    {
      "cell_type": "code",
      "execution_count": 33,
      "metadata": {
        "id": "8OiA-ZMXQRsq"
      },
      "outputs": [],
      "source": [
        "from tensorflow.keras.models import load_model\n",
        "\n",
        "# load the trained model from an HDF5 file\n",
        "nn=load_model(\"./AlphabetSoupCharity_Optimization.h5\")"
      ]
    },
    {
      "cell_type": "code",
      "execution_count": 34,
      "metadata": {
        "id": "Ey4y81_fXMdV"
      },
      "outputs": [
        {
          "name": "stdout",
          "output_type": "stream",
          "text": [
            "215/215 - 0s - loss: 0.5291 - accuracy: 0.7496 - 365ms/epoch - 2ms/step\n",
            "Loss: 0.5290688872337341, Accuracy: 0.749562680721283\n"
          ]
        }
      ],
      "source": [
        "# Evaluate the model using the test data\n",
        "model_loss, model_accuracy = nn.evaluate(X_test_scaled,y_test,verbose=2)\n",
        "print(f\"Loss: {model_loss}, Accuracy: {model_accuracy}\")"
      ]
    }
  ],
  "metadata": {
    "accelerator": "GPU",
    "colab": {
      "gpuType": "T4",
      "provenance": []
    },
    "kernelspec": {
      "display_name": "Python 3",
      "name": "python3"
    },
    "language_info": {
      "codemirror_mode": {
        "name": "ipython",
        "version": 3
      },
      "file_extension": ".py",
      "mimetype": "text/x-python",
      "name": "python",
      "nbconvert_exporter": "python",
      "pygments_lexer": "ipython3",
      "version": "3.10.9"
    },
    "vscode": {
      "interpreter": {
        "hash": "31f2aee4e71d21fbe5cf8b01ff0e069b9275f58929596ceb00d14d90e3e16cd6"
      }
    }
  },
  "nbformat": 4,
  "nbformat_minor": 0
}
